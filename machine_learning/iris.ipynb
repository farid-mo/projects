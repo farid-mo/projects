{
 "cells": [
  {
   "cell_type": "markdown",
   "id": "f6fb1c43",
   "metadata": {},
   "source": [
    "# Supervised Learning - Classification"
   ]
  },
  {
   "cell_type": "markdown",
   "id": "53951c4b",
   "metadata": {},
   "source": [
    "## Import dataset and packages"
   ]
  },
  {
   "cell_type": "code",
   "execution_count": 23,
   "id": "827404c8",
   "metadata": {},
   "outputs": [],
   "source": [
    "from sklearn.datasets import load_iris\n",
    "from sklearn.model_selection import train_test_split\n",
    "from sklearn.neighbors import KNeighborsClassifier\n",
    "from sklearn.tree import DecisionTreeClassifier\n",
    "from sklearn import metrics"
   ]
  },
  {
   "cell_type": "code",
   "execution_count": 4,
   "id": "0dd3e975",
   "metadata": {},
   "outputs": [],
   "source": [
    "iris = load_iris()"
   ]
  },
  {
   "cell_type": "code",
   "execution_count": 10,
   "id": "695f55be",
   "metadata": {},
   "outputs": [
    {
     "data": {
      "text/plain": [
       "array(['setosa', 'versicolor', 'virginica'], dtype='<U10')"
      ]
     },
     "execution_count": 10,
     "metadata": {},
     "output_type": "execute_result"
    }
   ],
   "source": [
    "feature_names = iris.feature_names\n",
    "target_names = iris.target_names\n",
    "X = iris.data\n",
    "y = iris.target"
   ]
  },
  {
   "cell_type": "markdown",
   "id": "9db12812",
   "metadata": {},
   "source": [
    "## Splitting data"
   ]
  },
  {
   "cell_type": "code",
   "execution_count": 12,
   "id": "15051340",
   "metadata": {},
   "outputs": [
    {
     "data": {
      "text/plain": [
       "(90, 4)"
      ]
     },
     "execution_count": 12,
     "metadata": {},
     "output_type": "execute_result"
    }
   ],
   "source": [
    "X_train, X_test, y_train, y_test = train_test_split(X, y, test_size=0.4) \n",
    "X_train.shape"
   ]
  },
  {
   "cell_type": "markdown",
   "id": "0912d796",
   "metadata": {},
   "source": [
    "## Create a model"
   ]
  },
  {
   "cell_type": "markdown",
   "id": "37189d0a",
   "metadata": {},
   "source": [
    "### K-Nearest Neighbor"
   ]
  },
  {
   "cell_type": "code",
   "execution_count": 19,
   "id": "485b3abc",
   "metadata": {},
   "outputs": [
    {
     "data": {
      "text/plain": [
       "KNeighborsClassifier(n_neighbors=3)"
      ]
     },
     "execution_count": 19,
     "metadata": {},
     "output_type": "execute_result"
    }
   ],
   "source": [
    "knn = KNeighborsClassifier(n_neighbors=3)\n",
    "knn.fit(X_train, y_train)"
   ]
  },
  {
   "cell_type": "markdown",
   "id": "77eb2918",
   "metadata": {},
   "source": [
    "### Decision Tree"
   ]
  },
  {
   "cell_type": "code",
   "execution_count": 24,
   "id": "02849622",
   "metadata": {},
   "outputs": [
    {
     "data": {
      "text/plain": [
       "DecisionTreeClassifier()"
      ]
     },
     "execution_count": 24,
     "metadata": {},
     "output_type": "execute_result"
    }
   ],
   "source": [
    "dt = DecisionTreeClassifier()\n",
    "dt.fit(X_train, y_train)"
   ]
  },
  {
   "cell_type": "markdown",
   "id": "5c5b5ec3",
   "metadata": {},
   "source": [
    "## Test the trained models"
   ]
  },
  {
   "cell_type": "code",
   "execution_count": 25,
   "id": "0804d5b1",
   "metadata": {},
   "outputs": [
    {
     "name": "stdout",
     "output_type": "stream",
     "text": [
      "KNN score: 0.95 Decision Tree score: 0.9333333333333333\n"
     ]
    }
   ],
   "source": [
    "# KNN\n",
    "y_pred_knn = knn.predict(X_test)\n",
    "knn_score = metrics.accuracy_score(y_test, y_pred_knn)\n",
    "\n",
    "# Decision Tree\n",
    "y_pred_dt = dt.predict(X_test)\n",
    "dt_score = metrics.accuracy_score(y_test, y_pred_dt)\n",
    "\n",
    "# Print scores\n",
    "print(f\"KNN score: {knn_score} Decision Tree score: {dt_score}\")"
   ]
  },
  {
   "cell_type": "markdown",
   "id": "a2ce8288",
   "metadata": {},
   "source": [
    "## Prediction"
   ]
  },
  {
   "cell_type": "code",
   "execution_count": 29,
   "id": "d5be1977",
   "metadata": {},
   "outputs": [
    {
     "name": "stdout",
     "output_type": "stream",
     "text": [
      "Predictions: ['versicolor', 'virginica']\n"
     ]
    }
   ],
   "source": [
    "sample = [[3, 5, 4, 2], [2, 3, 5, 4]]\n",
    "knn_pred = knn.predict(sample)\n",
    "predict_species = [iris.target_names[p] for p in knn_pred]\n",
    "print(\"Predictions:\", predict_species)"
   ]
  },
  {
   "cell_type": "markdown",
   "id": "67f523a7",
   "metadata": {},
   "source": [
    "## Save and load the model with joblib\n",
    "**Model presistence**: After training a scikit-learn model, it is desirable to have a way to persist the model for future use without having to retrain. "
   ]
  },
  {
   "cell_type": "code",
   "execution_count": 31,
   "id": "795632a1",
   "metadata": {},
   "outputs": [
    {
     "data": {
      "text/plain": [
       "['mlbrain.joblib']"
      ]
     },
     "execution_count": 31,
     "metadata": {},
     "output_type": "execute_result"
    }
   ],
   "source": [
    "from joblib import dump, load\n",
    "dump(knn, 'mlbrain.joblib')"
   ]
  },
  {
   "cell_type": "code",
   "execution_count": 34,
   "id": "20a6a6d5",
   "metadata": {},
   "outputs": [
    {
     "name": "stdout",
     "output_type": "stream",
     "text": [
      "Predictions: ['versicolor', 'virginica']\n"
     ]
    }
   ],
   "source": [
    "model = load('mlbrain.joblib')\n",
    "model.predict(sample)\n",
    "predict_species = [iris.target_names[p] for p in knn_pred]\n",
    "print(\"Predictions:\", predict_species)"
   ]
  }
 ],
 "metadata": {
  "kernelspec": {
   "display_name": "Python 3 (ipykernel)",
   "language": "python",
   "name": "python3"
  },
  "language_info": {
   "codemirror_mode": {
    "name": "ipython",
    "version": 3
   },
   "file_extension": ".py",
   "mimetype": "text/x-python",
   "name": "python",
   "nbconvert_exporter": "python",
   "pygments_lexer": "ipython3",
   "version": "3.8.12"
  }
 },
 "nbformat": 4,
 "nbformat_minor": 5
}
